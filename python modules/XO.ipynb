{
 "cells": [
  {
   "cell_type": "code",
   "execution_count": 1,
   "id": "b0f4a3b0-ecd1-4328-b29e-0c4ee1c0a666",
   "metadata": {
    "tags": []
   },
   "outputs": [
    {
     "data": {
      "text/plain": [
       "1"
      ]
     },
     "execution_count": 1,
     "metadata": {},
     "output_type": "execute_result"
    }
   ],
   "source": [
    "import ast\n",
    "import numpy as np\n",
    "#change java formatted String to list\n",
    "def StringToList(strng):\n",
    "    try:\n",
    "        list_from_string = ast.literal_eval(strng)\n",
    "        return list_from_string\n",
    "    except (SyntaxError, ValueError):\n",
    "        return [] \n",
    "StringToList(\"[[1],[1]]\")[0][0]"
   ]
  },
  {
   "cell_type": "code",
   "execution_count": 2,
   "id": "afdfb450-a67b-4e70-bcdd-7e8b32a64df1",
   "metadata": {
    "tags": []
   },
   "outputs": [
    {
     "data": {
      "text/plain": [
       "[[['x', 'x', ''], ['', '', ''], ['', '', '']],\n",
       " [['x', '', 'x'], ['', '', ''], ['', '', '']],\n",
       " [['x', '', ''], ['x', '', ''], ['', '', '']],\n",
       " [['x', '', ''], ['', 'x', ''], ['', '', '']],\n",
       " [['x', '', ''], ['', '', 'x'], ['', '', '']],\n",
       " [['x', '', ''], ['', '', ''], ['x', '', '']],\n",
       " [['x', '', ''], ['', '', ''], ['', 'x', '']],\n",
       " [['x', '', ''], ['', '', ''], ['', '', 'x']]]"
      ]
     },
     "execution_count": 2,
     "metadata": {},
     "output_type": "execute_result"
    }
   ],
   "source": [
    "from copy import deepcopy\n",
    "def childs(position,fit_by):\n",
    "    if(isinstance(position,str)):\n",
    "        position=StringToList(position)\n",
    "    childs=[]\n",
    "    for index_r,row in enumerate(position):\n",
    "        for index_e,cell in enumerate(row):\n",
    "            if (cell==\"\"):\n",
    "                child_i=deepcopy(position)#make a deepcopy to prevent problems of copy \n",
    "                child_i[index_r][index_e]=fit_by\n",
    "                childs.append(child_i)\n",
    "    return childs\n",
    "    \n",
    "\n",
    "position=[['','x','o'],['o','x',''],['x','','o']]\n",
    "childs(\"[['x','',''],['','',''],['','','']]\",\"x\")"
   ]
  },
  {
   "cell_type": "code",
   "execution_count": 12,
   "id": "4d84e626-7a36-4907-8553-da3dfb91ac0f",
   "metadata": {
    "tags": []
   },
   "outputs": [
    {
     "data": {
      "text/plain": [
       "1"
      ]
     },
     "execution_count": 12,
     "metadata": {},
     "output_type": "execute_result"
    }
   ],
   "source": [
    "def static_eval(position,computerIsX):\n",
    "    coputerChar='x' if computerIsX else 'o'\n",
    "    if(isinstance(position,str)):\n",
    "        position=StringToList(position)\n",
    "    for row in position:\n",
    "        if all((row[0]!='' and x == row[0]) for x in row):\n",
    "            return 1 if (row[0]==coputerChar) else -1\n",
    "    for i in range(len(row)):      \n",
    "        if all((position[0][i]!='' and x[i]==position[0][i]) for x in position):\n",
    "            return 1 if (position[0][i]==coputerChar) else -1\n",
    "    #one diagonal\n",
    "    if all((position[0][0]!='' and row[i]== position[0][0]) for i,row in enumerate(position)):#as diagonal element of row is row index\n",
    "            return 1 if (position[0][0]==coputerChar) else -1\n",
    "    #other diagonal\n",
    "    if all((position[0][-1]!='' and row[len(row)-1-i]== position[0][-1]) for i,row in enumerate(position)):#as len(row)-1-i element of row is row index in this diagonal        return True\n",
    "            return 1 if (position[0][-1]==coputerChar) else -1\n",
    "\n",
    "    return 0\n",
    "position=[['o','o','o'],['o','x',''],['x','','o']]\n",
    "static_eval(position,False)"
   ]
  },
  {
   "cell_type": "code",
   "execution_count": 13,
   "id": "9d243058-dce6-4ce3-becc-a5a5c5010605",
   "metadata": {
    "tags": []
   },
   "outputs": [],
   "source": [
    "def fit_by(computer_is_x):\n",
    "    return 'x' if computer_is_x else 'o'\n",
    "def alphabeta_decide(position,depth,alpha,beta,maxPlayer,steps_queue,computer_is_x):#whenever used code outside alpha is -float('inf'),beta is float('inf')\n",
    "    if(isinstance(position,str)):\n",
    "        position=StringToList(position)\n",
    "    if (depth==0) or (static_eval(position,computer_is_x)!=0):\n",
    "        return static_eval(position,computer_is_x)\n",
    "    if maxPlayer :\n",
    "        maxEval=-float('inf')\n",
    "        for child in childs(position,fit_by(computer_is_x)):\n",
    "            eval_c=alphabeta_decide(child,depth-1,alpha,beta,False,steps_queue,computer_is_x)\n",
    "            maxEval=max(maxEval,eval_c)            \n",
    "            alpha=max(alpha,eval_c)\n",
    "            if beta<=alpha:\n",
    "                break\n",
    "        return maxEval\n",
    "    else :\n",
    "        minEval=float('inf')\n",
    "        bstMove=None\n",
    "        for child in childs(position,fit_by(not computer_is_x)):\n",
    "            eval_c=alphabeta_decide(child,depth-1,alpha,beta,True,steps_queue,computer_is_x)\n",
    "            minEval=min(eval_c,eval_c)\n",
    "            beta=min(beta,eval_c)\n",
    "            if beta<=alpha:\n",
    "                break\n",
    "        return minEval"
   ]
  },
  {
   "cell_type": "code",
   "execution_count": 17,
   "id": "3e90ba1a-4e46-4f38-8133-ca9a9bb296bd",
   "metadata": {
    "tags": []
   },
   "outputs": [
    {
     "data": {
      "text/plain": [
       "[['x', 'x', 'o'], ['o', 'x', ''], ['x', '', 'o']]"
      ]
     },
     "execution_count": 17,
     "metadata": {},
     "output_type": "execute_result"
    }
   ],
   "source": [
    "def get_best_position(position,computer_is_x,depth):\n",
    "    if(isinstance(position,str)):\n",
    "        position=StringToList(position)\n",
    "    maxEval=-float('inf')\n",
    "    bstMove=None\n",
    "    if(static_eval(position,computer_is_x)!=0):\n",
    "        print(\"finished\")\n",
    "        print(position)\n",
    "        return bstMove\n",
    "    for child in childs(position,fit_by(computer_is_x)):\n",
    "        eval_c=alphabeta_decide(child,depth,-float('inf'),float('inf'), True,[],computer_is_x)\n",
    "        if eval_c>maxEval:\n",
    "                maxEval=eval_c\n",
    "                bstMove=child\n",
    "                \n",
    "    return bstMove\n",
    "get_best_position([['','x','o'],['o','x',''],['x','','o']],True,3)"
   ]
  },
  {
   "cell_type": "code",
   "execution_count": 18,
   "id": "a5542982-e416-4a30-a0a2-91524fb94a16",
   "metadata": {
    "tags": []
   },
   "outputs": [
    {
     "data": {
      "text/plain": [
       "(1, 2)"
      ]
     },
     "execution_count": 18,
     "metadata": {},
     "output_type": "execute_result"
    }
   ],
   "source": [
    "def getStepIndices(x1,x2):\n",
    "    if(isinstance(x1,str)):\n",
    "        x1=StringToList(x1)\n",
    "    if(isinstance(x2,str)):\n",
    "        x2=StringToList(x2)\n",
    "    i=0\n",
    "    j=0\n",
    "    for i in range(len(x1)):\n",
    "        if (x1[i]==x2[i]):\n",
    "            continue\n",
    "        else:\n",
    "            for j in range(len(x1)) :#len(x1) is same outer as inner so no problem\n",
    "                if (x1[i][j]==x2[i][j]):\n",
    "                    continue\n",
    "                else:\n",
    "                    break #as only one change/time\n",
    "            break    \n",
    "    return (i,j)#index of difference so new char is her\n",
    "x1=\"[['x','',''],['','','o'],['','','']]\"\n",
    "x2=[['x','',''],['','',''],['','','']]\n",
    "getStepIndices(x1,x2)"
   ]
  },
  {
   "cell_type": "code",
   "execution_count": 16,
   "id": "caa0fb6f-88ae-47aa-87b7-58fc0c52202d",
   "metadata": {
    "tags": []
   },
   "outputs": [
    {
     "data": {
      "text/plain": [
       "(0, 1)"
      ]
     },
     "execution_count": 16,
     "metadata": {},
     "output_type": "execute_result"
    }
   ],
   "source": [
    "def get_best_step(position,computer_is_x,depth):\n",
    "    new_position=get_best_position(position,computer_is_x,depth)\n",
    "    return getStepIndices(position,new_position)\n",
    "get_best_step(\"[['x','',''],['','','o'],['','','']]\",True,3)"
   ]
  }
 ],
 "metadata": {
  "kernelspec": {
   "display_name": "Python 3 (ipykernel)",
   "language": "python",
   "name": "python3"
  },
  "language_info": {
   "codemirror_mode": {
    "name": "ipython",
    "version": 3
   },
   "file_extension": ".py",
   "mimetype": "text/x-python",
   "name": "python",
   "nbconvert_exporter": "python",
   "pygments_lexer": "ipython3",
   "version": "3.11.3"
  }
 },
 "nbformat": 4,
 "nbformat_minor": 5
}
