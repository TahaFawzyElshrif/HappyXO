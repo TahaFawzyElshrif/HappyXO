{
 "cells": [
  {
   "cell_type": "markdown",
   "id": "80ee0e83-980e-4677-8eac-02905af9d39e",
   "metadata": {},
   "source": [
    "# Happy XO V1.0.0\n",
    "\n",
    "\n",
    "## Contents of tis readme:\n",
    "- summary description about the project\n",
    "- how to use app\n",
    "- explain of how application work \n",
    "- Languages ,API ,resources used \n",
    "- limitation\n",
    "- contact info\n",
    "\n",
    "\n",
    "## summary description about the project:\n",
    "### this ***android app*** is XO game (tic-tac-toe) that offer\n",
    "\n",
    "    - play with AI (using minimax, alpha purning algorithm )\n",
    "    - play with another user (this version restricted on one mobile phone ,see limitation)\n",
    "    - game configuration (change play level)\n",
    "\n",
    "## how to use app:\n",
    "easy interface with animations : after installition you can:\n",
    "- choose to play with AI (robot logo)\n",
    "- choose to play with another person (user with laptop logo)\n",
    "- choose game configuration (playstation logo)\n",
    "\n",
    "## overview of how application work in outside:\n",
    "### Python code:\n",
    "- static_eval : given XO matrix ***should be n*n*** return evelution of this matrix such that :\n",
    "- 0: no one won,game haven't finished \n",
    "- 1:computer won or opponent won (in user game)\n",
    "- -1:user won\n",
    "- alphabeta_decide : main method , alpha beta with min-max return static_eval\n",
    "- get_best_position : from alphabeta_decide get the new matrix with new step\n",
    "- :compare 2 matrix (before step,after step) (logically one step done) and get certain step (step is indices in matrix to use it in java easily)\n",
    "- get_best_step :from get_best_position get  get step not matrix \n",
    "- StringToList convert list (got from java using chaquo as string) to list \n",
    "### java code\n",
    "- Utils is mostly used methods in app  dialog,go to activity ,startPython ,format data sent to python \n",
    "- one method is ArrayToBracket that given java 2d array (represent matrix) convert it to string of python 2d list (to send to python then recognized in StringToList)\n",
    "- in (splach screen) it load SharedPreferences \n",
    "- loaded SharedPreferences data are loaded in memory with static attributes in Settings\n",
    "- SharedPreferences are created /changed in configuration Activity ,and put default on Activity when loaded\n",
    "- XO_Ai ,XO_user are nearly same but difference in main code ,i put many shared methods in XO_user as static methods but some methods ,copied it as it some difficult to make static\n",
    "- i tried to make code orgainzed as possible\n",
    "\n",
    "## Languages ,API ,resources used \n",
    "-      ***Language:*** java,python3 ,gradle with groovy\n",
    "-      ***API:*** chaquo version 14 ----to connect python to java\n",
    "-      ***Resources:*** algorithm of alpha-beta is in format from internet\n",
    "    \n",
    "## limitation:\n",
    "    -the most important limit is that when play with another user ,both on same mobile phone \n",
    "    (user not connected)\n",
    "    -some screens may not displayed correctly (i tried to use scrolview now),better display in android emeulator\n",
    "    -same times may got suddenly not-work\n",
    "    -no security layers added\n",
    "\n",
    "\n",
    "## contact info\n",
    "    -tahaelshrif1@gmail.com"
   ]
  },
  {
   "cell_type": "code",
   "execution_count": null,
   "id": "e48c339e-6b42-4b15-8af5-6d0ca0d58852",
   "metadata": {},
   "outputs": [],
   "source": []
  },
  {
   "cell_type": "code",
   "execution_count": null,
   "id": "8f5eec1f-462f-47f3-8fbd-44bd335c5060",
   "metadata": {},
   "outputs": [],
   "source": []
  }
 ],
 "metadata": {
  "kernelspec": {
   "display_name": "Python 3 (ipykernel)",
   "language": "python",
   "name": "python3"
  },
  "language_info": {
   "codemirror_mode": {
    "name": "ipython",
    "version": 3
   },
   "file_extension": ".py",
   "mimetype": "text/x-python",
   "name": "python",
   "nbconvert_exporter": "python",
   "pygments_lexer": "ipython3",
   "version": "3.11.3"
  }
 },
 "nbformat": 4,
 "nbformat_minor": 5
}
