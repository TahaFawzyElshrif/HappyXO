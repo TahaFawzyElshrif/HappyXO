{
 "cells": [
  {
   "cell_type": "code",
   "execution_count": 1,
   "id": "b0f4a3b0-ecd1-4328-b29e-0c4ee1c0a666",
   "metadata": {
    "tags": []
   },
   "outputs": [
    {
     "data": {
      "text/plain": [
       "1"
      ]
     },
     "execution_count": 1,
     "metadata": {},
     "output_type": "execute_result"
    }
   ],
   "source": [
    "import ast\n",
    "import numpy as np\n",
    "#change java formatted String to list\n",
    "def StringToList(strng):\n",
    "    try:\n",
    "        list_from_string = ast.literal_eval(strng)\n",
    "        return list_from_string\n",
    "    except (SyntaxError, ValueError):\n",
    "        return [] \n",
    "StringToList(\"[[1],[1]]\")[0][0]"
   ]
  },
  {
   "cell_type": "code",
   "execution_count": 2,
   "id": "afdfb450-a67b-4e70-bcdd-7e8b32a64df1",
   "metadata": {
    "tags": []
   },
   "outputs": [
    {
     "data": {
      "text/plain": [
       "[[['x', 'x', ''], ['', '', ''], ['', '', '']],\n",
       " [['x', '', 'x'], ['', '', ''], ['', '', '']],\n",
       " [['x', '', ''], ['x', '', ''], ['', '', '']],\n",
       " [['x', '', ''], ['', 'x', ''], ['', '', '']],\n",
       " [['x', '', ''], ['', '', 'x'], ['', '', '']],\n",
       " [['x', '', ''], ['', '', ''], ['x', '', '']],\n",
       " [['x', '', ''], ['', '', ''], ['', 'x', '']],\n",
       " [['x', '', ''], ['', '', ''], ['', '', 'x']]]"
      ]
     },
     "execution_count": 2,
     "metadata": {},
     "output_type": "execute_result"
    }
   ],
   "source": [
    "from copy import deepcopy\n",
    "def childs(position,fit_by):\n",
    "    if(isinstance(position,str)):\n",
    "        position=StringToList(position)\n",
    "    childs=[]\n",
    "    for index_r,row in enumerate(position):\n",
    "        for index_e,cell in enumerate(row):\n",
    "            if (cell==\"\"):\n",
    "                child_i=deepcopy(position)#make a deepcopy to prevent problems of copy \n",
    "                child_i[index_r][index_e]=fit_by\n",
    "                childs.append(child_i)\n",
    "    return childs\n",
    "    \n",
    "\n",
    "position=[['','x','o'],['o','x',''],['x','','o']]\n",
    "childs(\"[['x','',''],['','',''],['','','']]\",\"x\")"
   ]
  },
  {
   "cell_type": "code",
   "execution_count": 3,
   "id": "4d84e626-7a36-4907-8553-da3dfb91ac0f",
   "metadata": {
    "tags": []
   },
   "outputs": [
    {
     "data": {
      "text/plain": [
       "0"
      ]
     },
     "execution_count": 3,
     "metadata": {},
     "output_type": "execute_result"
    }
   ],
   "source": [
    "def static_eval(position):\n",
    "    if(isinstance(position,str)):\n",
    "        position=StringToList(position)\n",
    "    for row in position:\n",
    "        if all((row[0]!='' and x == row[0]) for x in row):\n",
    "            return 1 if (row[0]=='x') else -1\n",
    "    for i in range(len(row)):      \n",
    "        if all((position[0][i]!='' and x[i]==position[0][i]) for x in position):\n",
    "            return 1 if (position[0][i]=='x') else -1\n",
    "    #one diagonal\n",
    "    if all((position[0][0]!='' and row[i]== position[0][0]) for i,row in enumerate(position)):#as diagonal element of row is row index\n",
    "            return 1 if (position[0][0]=='x') else -1\n",
    "    #other diagonal\n",
    "    if all((position[0][-1]!='' and row[len(row)-1-i]== position[0][-1]) for i,row in enumerate(position)):#as len(row)-1-i element of row is row index in this diagonal        return True\n",
    "            return 1 if (position[0][-1]=='x') else -1\n",
    "\n",
    "    return 0\n",
    "position=[['','x','o'],['o','x',''],['x','','o']]\n",
    "static_eval(position)"
   ]
  },
  {
   "cell_type": "code",
   "execution_count": 4,
   "id": "9d243058-dce6-4ce3-becc-a5a5c5010605",
   "metadata": {
    "tags": []
   },
   "outputs": [],
   "source": [
    "#final version \n",
    "def fit_by(computer_is_x):\n",
    "    return 'x' if computer_is_x else 'o'\n",
    "def alphabeta_decide(position,depth,alpha,beta,maxPlayer,steps_queue,computer_is_x):#whenever used code outside alpha is -float('inf'),beta is float('inf')\n",
    "    if(isinstance(position,str)):\n",
    "        position=StringToList(position)\n",
    "    if (depth==0) or (static_eval(position)!=0):\n",
    "        return static_eval(position)\n",
    "    if maxPlayer :\n",
    "        maxEval=-float('inf')\n",
    "        for child in childs(position,fit_by(computer_is_x)):\n",
    "            eval_c=alphabeta_decide(child,depth-1,alpha,beta,False,steps_queue,computer_is_x)\n",
    "            maxEval=max(maxEval,eval_c)            \n",
    "            alpha=max(alpha,eval_c)\n",
    "            if beta<=alpha:\n",
    "                break\n",
    "        return maxEval\n",
    "    else :\n",
    "        minEval=float('inf')\n",
    "        bstMove=None\n",
    "        for child in childs(position,fit_by(not computer_is_x)):\n",
    "            eval_c=alphabeta_decide(child,depth-1,alpha,beta,True,steps_queue,computer_is_x)\n",
    "            minEval=min(eval_c,eval_c)\n",
    "            beta=min(beta,eval_c)\n",
    "            if beta<=alpha:\n",
    "                break\n",
    "        return minEval"
   ]
  },
  {
   "cell_type": "code",
   "execution_count": 5,
   "id": "3e90ba1a-4e46-4f38-8133-ca9a9bb296bd",
   "metadata": {
    "tags": []
   },
   "outputs": [],
   "source": [
    "def get_best_position(position,computer_is_x,depth):\n",
    "    if(isinstance(position,str)):\n",
    "        position=StringToList(position)\n",
    "    maxEval=-float('inf')\n",
    "    bstMove=None\n",
    "    if(static_eval(position)!=0):\n",
    "        print(\"finished\")\n",
    "        print(position)\n",
    "        return bstMove\n",
    "    for child in childs(position,fit_by(computer_is_x)):\n",
    "        eval_c=alphabeta_decide(child,depth,-float('inf'),float('inf'), True,[],computer_is_x)\n",
    "        if eval_c>maxEval:\n",
    "                maxEval=eval_c\n",
    "                bstMove=child\n",
    "                \n",
    "    return bstMove\n"
   ]
  },
  {
   "cell_type": "code",
   "execution_count": 7,
   "id": "a5542982-e416-4a30-a0a2-91524fb94a16",
   "metadata": {
    "tags": []
   },
   "outputs": [
    {
     "data": {
      "text/plain": [
       "(1, 2)"
      ]
     },
     "execution_count": 7,
     "metadata": {},
     "output_type": "execute_result"
    }
   ],
   "source": [
    "def getStepIndices(x1,x2):\n",
    "    if(isinstance(x1,str)):\n",
    "        x1=StringToList(x1)\n",
    "    if(isinstance(x2,str)):\n",
    "        x2=StringToList(x2)\n",
    "    i=0\n",
    "    j=0\n",
    "    for i in range(len(x1)):\n",
    "        if (x1[i]==x2[i]):\n",
    "            continue\n",
    "        else:\n",
    "            for j in range(len(x1)) :#len(x1) is same outer as inner so no problem\n",
    "                if (x1[i][j]==x2[i][j]):\n",
    "                    continue\n",
    "                else:\n",
    "                    break #as only one change/time\n",
    "            break    \n",
    "    return (i,j)#index of difference so new char is her\n",
    "x1=\"[['x','',''],['','','o'],['','','']]\"\n",
    "x2=[['x','',''],['','',''],['','','']]\n",
    "getStepIndices(x1,x2)"
   ]
  },
  {
   "cell_type": "code",
   "execution_count": 8,
   "id": "caa0fb6f-88ae-47aa-87b7-58fc0c52202d",
   "metadata": {
    "tags": []
   },
   "outputs": [
    {
     "data": {
      "text/plain": [
       "(0, 1)"
      ]
     },
     "execution_count": 8,
     "metadata": {},
     "output_type": "execute_result"
    }
   ],
   "source": [
    "def get_best_step(position,computer_is_x,depth):\n",
    "    new_position=get_best_position(position,computer_is_x,depth)\n",
    "    return getStepIndices(position,new_position)\n",
    "get_best_step(\"[['x','',''],['','','o'],['','','']]\",True,3)"
   ]
  },
  {
   "cell_type": "code",
   "execution_count": null,
   "id": "05dd4422-4223-4444-9e9a-c685b99303e8",
   "metadata": {
    "tags": []
   },
   "outputs": [],
   "source": [
    "\"\"\"#worked but not important,you can safely delete\n",
    "def isGameOver(position):\n",
    "    for row in position:\n",
    "        if all((row[0]!='' and x == row[0]) for x in row):\n",
    "            return True\n",
    "    for i in range(len(row)):      \n",
    "        if all((position[0][i]!='' and x[i]==position[0][i]) for x in position):\n",
    "            return True\n",
    "    #one diagonal\n",
    "    if all((position[0][0]!='' and row[i]== position[0][0]) for i,row in enumerate(position)):#as diagonal element of row is row index\n",
    "        return True\n",
    "    #other diagonal\n",
    "    if all((position[0][-1]!='' and row[len(row)-1-i]== position[0][-1]) for i,row in enumerate(position)):#as len(row)-1-i element of row is row index in this diagonal        return True\n",
    "        return True\n",
    "\n",
    "    return False\n",
    "position=[['','x','o'],['o','x',''],['x','','o']]\n",
    "isGameOver(position)\n",
    "\"\"\""
   ]
  },
  {
   "cell_type": "code",
   "execution_count": null,
   "id": "a68ccac5-549a-4632-91e5-2b70fcd05f7f",
   "metadata": {
    "tags": []
   },
   "outputs": [],
   "source": [
    "\"\"\"\n",
    "def minimax(position,depth,maxPlayer):\n",
    "    if (depth==0) or (static_eval(position)!=0):\n",
    "        return static_eval(position)\n",
    "    if maxPlayer :\n",
    "        maxEval=-float('inf')\n",
    "        for child in childs(position):\n",
    "            eval_c=minimax(child,depth-1,False)\n",
    "            maxEval=max(maxEval,eval_c)\n",
    "        return maxEval\n",
    "    else :\n",
    "        minEval=float('inf')\n",
    "        for child in childs(position):\n",
    "            eval_c=minimax(child,depth-1,True)\n",
    "            minEval=min(minEval,eval_c)\n",
    "        return minEval\n",
    "\"\"\"        "
   ]
  },
  {
   "cell_type": "code",
   "execution_count": null,
   "id": "9662f3b4-889f-4d9a-816e-65ddf4474c7c",
   "metadata": {
    "tags": []
   },
   "outputs": [],
   "source": [
    "\"\"\"\n",
    "def alphabeta(position,depth,alpha,beta,maxPlayer):#whenever used code outside alpha is -float('inf'),beta is float('inf')\n",
    "    if (depth==0) or (static_eval(position)!=0):\n",
    "        return static_eval(position)\n",
    "    if maxPlayer :\n",
    "        maxEval=-float('inf')\n",
    "        for child in childs(position):\n",
    "            eval_c=alphabeta(child,depth-1,alpha,beta,False)\n",
    "            maxEval=max(maxEval,eval_c)\n",
    "            alpha=max(alpha,eval_c)\n",
    "            if beta<=alpha:\n",
    "                break\n",
    "        \n",
    "        return maxEval\n",
    "    else :\n",
    "        minEval=float('inf')\n",
    "        for child in childs(position):\n",
    "            eval_c=alphabeta(child,depth-1,alpha,beta,True)\n",
    "            minEval=min(minEval,eval_c)\n",
    "            beta=min(beta,eval_c)\n",
    "            if beta<=alpha:\n",
    "                break\n",
    "        return minEval\n",
    "\"\"\"     "
   ]
  },
  {
   "cell_type": "code",
   "execution_count": null,
   "id": "9ef39080-5010-4a52-afe1-bb337420058a",
   "metadata": {
    "tags": []
   },
   "outputs": [],
   "source": [
    "\"\"\"\n",
    "#version_1\n",
    "def alphabeta_decide(position,depth,alpha,beta,maxPlayer,steps_queue):#whenever used code outside alpha is -float('inf'),beta is float('inf')\n",
    "    if (depth==0) or (static_eval(position)!=0):\n",
    "        return (static_eval(position),steps_queue)\n",
    "    steps_queue=[]\n",
    "    if maxPlayer :\n",
    "        maxEval=-float('inf')\n",
    "        bstChild=[]\n",
    "        for child in childs(position):\n",
    "            eval_c=alphabeta_decide(child,depth-1,alpha,beta,False,steps_queue)[0]\n",
    "            maxEval=max(maxEval,eval_c)\n",
    "            bstChild=child\n",
    "            alpha=max(alpha,eval_c)\n",
    "            if beta<=alpha:\n",
    "                break\n",
    "        steps_queue.append(bstChild)\n",
    "        return (maxEval,steps_queue)\n",
    "    else :\n",
    "        minEval=float('inf')\n",
    "        bstChild=[]\n",
    "        for child in childs(position):\n",
    "            eval_c=alphabeta_decide(child,depth-1,alpha,beta,True,steps_queue)[0]\n",
    "            minEval=min(minEval,eval_c)\n",
    "            bstChild=child\n",
    "            beta=min(beta,eval_c)\n",
    "            if beta<=alpha:\n",
    "                break\n",
    "        steps_queue.append(bstChild)\n",
    "        return (minEval,steps_queue)\n",
    "\"\"\""
   ]
  },
  {
   "cell_type": "code",
   "execution_count": null,
   "id": "bd0fa6c2-e4ff-4b5e-b0f5-224dac0877c0",
   "metadata": {
    "tags": []
   },
   "outputs": [],
   "source": [
    "\"\"\"\n",
    "#version 2\n",
    "def fit_by(computer_is_x):\n",
    "    return 'x' if computer_is_x else 'o'\n",
    "def alphabeta_decide(position,depth,alpha,beta,maxPlayer,steps_queue,computer_is_x):#whenever used code outside alpha is -float('inf'),beta is float('inf')\n",
    "\n",
    "    if (depth==0) or (static_eval(position)!=0):\n",
    "        return (static_eval(position),position)\n",
    "    if maxPlayer :\n",
    "        maxEval=-float('inf')\n",
    "        bstMove=None\n",
    "        for child in childs(position,fit_by(computer_is_x)):\n",
    "            eval_c,move=alphabeta_decide(child,depth-1,alpha,beta,False,steps_queue,computer_is_x)\n",
    "            if eval_c>maxEval:\n",
    "                maxEval=eval_c\n",
    "                bstMove=move\n",
    "            \n",
    "            alpha=max(alpha,eval_c)\n",
    "            if beta<=alpha:\n",
    "                break\n",
    "        return (maxEval,bstMove)\n",
    "    else :\n",
    "        minEval=float('inf')\n",
    "        bstMove=None\n",
    "        for child in childs(position,fit_by(not computer_is_x)):\n",
    "            eval_c,move=alphabeta_decide(child,depth-1,alpha,beta,True,steps_queue,computer_is_x)\n",
    "            if eval_c<minEval:\n",
    "                minEval=eval_c\n",
    "                bstMove=move\n",
    "            minEval=min(minEval,eval_c)\n",
    "            beta=min(beta,eval_c)\n",
    "            if beta<=alpha:\n",
    "                break\n",
    "        return (minEval,bstMove)\n",
    "\"\"\""
   ]
  },
  {
   "cell_type": "code",
   "execution_count": null,
   "id": "c6a4d6a7-092c-4d5a-a295-a2c78fce7076",
   "metadata": {},
   "outputs": [],
   "source": []
  }
 ],
 "metadata": {
  "kernelspec": {
   "display_name": "Python 3 (ipykernel)",
   "language": "python",
   "name": "python3"
  },
  "language_info": {
   "codemirror_mode": {
    "name": "ipython",
    "version": 3
   },
   "file_extension": ".py",
   "mimetype": "text/x-python",
   "name": "python",
   "nbconvert_exporter": "python",
   "pygments_lexer": "ipython3",
   "version": "3.11.3"
  }
 },
 "nbformat": 4,
 "nbformat_minor": 5
}
